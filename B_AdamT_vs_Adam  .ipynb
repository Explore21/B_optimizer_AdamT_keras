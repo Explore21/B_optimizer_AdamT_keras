{
 "cells": [
  {
   "cell_type": "code",
   "execution_count": 1,
   "metadata": {},
   "outputs": [
    {
     "name": "stderr",
     "output_type": "stream",
     "text": [
      "Using TensorFlow backend.\n"
     ]
    }
   ],
   "source": [
    " #from keras.preprocessing.image import ImageDataGenerator\n",
    "import tensorflow as tf\n",
    "from keras.models import Sequential, load_model\n",
    "from keras.layers import Conv2D, MaxPooling2D\n",
    "from keras.layers import Activation, Dropout, Flatten, Dense, Lambda, Multiply,GlobalAveragePooling2D\n",
    "from keras import backend as K\n",
    "import cv2, numpy as np\n",
    "import glob\n",
    "from keras.optimizers import SGD, Adam\n",
    "from keras.activations import relu \n",
    "import keras as keras\n",
    "from keras.models import Model,load_model\n",
    "from keras.layers import  Input,Conv2D,BatchNormalization,Activation,Lambda,Subtract,concatenate,Add,add,Reshape\n",
    "\n",
    "from keras.layers import Input, concatenate, Conv2D, MaxPooling2D, Conv2DTranspose,DepthwiseConv2D,Concatenate\n",
    "from keras.optimizers import Adam\n",
    "from keras.callbacks import ModelCheckpoint\n",
    "from keras import losses\n",
    "from keras.layers import  Layer,Activation, Lambda, MaxPooling2D, UpSampling2D, Conv2DTranspose, SpatialDropout2D\n",
    "import os\n",
    "from keras.callbacks import ModelCheckpoint, LearningRateScheduler\n",
    "from keras.callbacks import ReduceLROnPlateau\n",
    "from keras.callbacks import EarlyStopping \n",
    "from keras.callbacks import EarlyStopping, ModelCheckpoint, TensorBoard\n",
    "from  sklearn.model_selection import train_test_split\n",
    "\n",
    "#from tensorflow.python import debug as tf_debug\n",
    "import imageio\n",
    "import glob\n",
    "from skimage import transform as tf\n",
    "from keras.losses import mse, binary_crossentropy\n",
    "\n",
    "\n",
    "from scipy import ndimage\n",
    "import matplotlib.pyplot as plt\n",
    "import matplotlib.image as plt_img\n",
    "import scipy\n",
    "import scipy\n",
    "import skimage\n",
    "import re\n",
    "#import LRFinder\n",
    "import math as m\n",
    "import tensorflow as tf \n",
    "from keras.callbacks import ModelCheckpoint, ReduceLROnPlateau, LearningRateScheduler \n",
    "from keras import backend as K\n",
    "from pathlib import Path\n",
    "from keras import objectives\n",
    "\n",
    "from keras import optimizers\n",
    "\n",
    "import numpy as np\n",
    " \n",
    "from keras import backend as K\n",
    "from skimage.measure import compare_ssim, compare_psnr\n",
    "\n",
    "from keras.utils import to_categorical\n",
    "\n",
    "import cv2\n",
    "import numpy as np\n",
    "import matplotlib\n",
    "from matplotlib import pyplot as plt\n",
    "\n",
    "tf.random.Generator = None \n",
    "import tensorflow_addons as tfa\n",
    "from keras.datasets import  mnist, fashion_mnist\n",
    "\n",
    "import warnings\n",
    "warnings.filterwarnings('ignore')\n",
    "from keras.models import Model\n",
    "from keras.utils import to_categorical\n",
    "\n",
    "\n",
    "from datetime import datetime\n",
    "from scipy.fftpack import dct, idct\n",
    "import copy"
   ]
  },
  {
   "cell_type": "code",
   "execution_count": null,
   "metadata": {},
   "outputs": [],
   "source": []
  },
  {
   "cell_type": "code",
   "execution_count": 2,
   "metadata": {},
   "outputs": [],
   "source": [
    "(x_train, y_train), (X_test, Y_test) = tf.keras.datasets.cifar10.load_data()"
   ]
  },
  {
   "cell_type": "code",
   "execution_count": 3,
   "metadata": {},
   "outputs": [
    {
     "name": "stdout",
     "output_type": "stream",
     "text": [
      "50000 50000 10000 10000\n"
     ]
    }
   ],
   "source": [
    "print(len(x_train), len(y_train),  len(X_test), len(Y_test))"
   ]
  },
  {
   "cell_type": "code",
   "execution_count": 4,
   "metadata": {},
   "outputs": [
    {
     "name": "stdout",
     "output_type": "stream",
     "text": [
      "(50000, 10) (10000, 10)\n"
     ]
    }
   ],
   "source": [
    "num_labels = len(np.unique(y_train))\n",
    "y_train = to_categorical(y_train)\n",
    "Y_test = to_categorical(Y_test)\n",
    "\n",
    "print(y_train.shape, Y_test.shape)"
   ]
  },
  {
   "cell_type": "code",
   "execution_count": 5,
   "metadata": {},
   "outputs": [
    {
     "name": "stdout",
     "output_type": "stream",
     "text": [
      "(50000, 32, 32, 3) (10000, 32, 32, 3)\n"
     ]
    }
   ],
   "source": [
    "image_size = x_train.shape[1]\n",
    "\n",
    "x_train = np.reshape(x_train,[-1, image_size, image_size, 3])\n",
    "X_test = np.reshape(X_test,[-1, image_size, image_size, 3])\n",
    "\n",
    "x_train = x_train.astype('float32') / 255\n",
    "X_test = X_test.astype('float32') / 255\n",
    "\n",
    "print(x_train.shape, X_test.shape)"
   ]
  },
  {
   "cell_type": "code",
   "execution_count": 6,
   "metadata": {},
   "outputs": [],
   "source": [
    " \n",
    "x_val=X_test[:8000]\n",
    "y_val=Y_test[:8000]\n",
    "x_test=X_test[8001:]\n",
    "y_test=Y_test[8001:]"
   ]
  },
  {
   "cell_type": "code",
   "execution_count": 7,
   "metadata": {},
   "outputs": [],
   "source": [
    "# network parameters\n",
    "input_shape = (image_size, image_size, 3)\n",
    "batch_size = 128\n",
    "kernel_size = 3\n",
    "filters = 64\n",
    "dropout = 0.3"
   ]
  },
  {
   "cell_type": "code",
   "execution_count": 8,
   "metadata": {},
   "outputs": [],
   "source": [
    "def conv_block(units, dropout=0.2, activation='relu', block=1, layer=1):\n",
    "\n",
    "    def layer_wrapper(inp):\n",
    "        x = Conv2D(units, (3, 3), padding='same', name='block{}_conv{}'.format(block, layer))(inp)\n",
    "        x = BatchNormalization(name='block{}_bn{}'.format(block, layer))(x)\n",
    "        x = Activation(activation, name='block{}_act{}'.format(block, layer))(x)\n",
    "        x = Dropout(dropout, name='block{}_dropout{}'.format(block, layer))(x)\n",
    "        return x\n",
    "\n",
    "    return layer_wrapper\n",
    "\n",
    "def dense_block(units, dropout=0.2, activation='relu', name='fc1'):\n",
    "\n",
    "    def layer_wrapper(inp):\n",
    "        x = Dense(units, name=name)(inp)\n",
    "        x = BatchNormalization(name='{}_bn'.format(name))(x)\n",
    "        x = Activation(activation, name='{}_act'.format(name))(x)\n",
    "        x = Dropout(dropout, name='{}_dropout'.format(name))(x)\n",
    "        return x\n",
    "\n",
    "    return layer_wrapper\n",
    "        \n",
    "\n",
    "def VGG16_BN(input_tensor=None, input_shape=None, classes=1000, conv_dropout=0.1, dropout=0.3, activation='relu'):\n",
    "    \"\"\"Instantiates the VGG16 architecture with Batch Normalization\n",
    "    # Arguments\n",
    "        input_tensor: Keras tensor (i.e. output of `layers.Input()`) to use as image input for the model.\n",
    "        input_shape: shape tuple\n",
    "        classes: optional number of classes to classify images\n",
    "    # Returns\n",
    "        A Keras model instance.\n",
    "    \"\"\"\n",
    "    img_input = Input(shape=input_shape) if input_tensor is None else (\n",
    "        Input(tensor=input_tensor, shape=input_shape) if not K.is_keras_tensor(input_tensor) else input_tensor\n",
    "    )\n",
    "\n",
    "    # Block 1\n",
    "    x = conv_block(32, dropout=conv_dropout, activation=activation, block=1, layer=1)(img_input)\n",
    "    x = conv_block(32, dropout=conv_dropout, activation=activation, block=1, layer=2)(x)\n",
    "    x = MaxPooling2D((2, 2), strides=(2, 2), name='block1_pool')(x)\n",
    "\n",
    "    # Block 2\n",
    "    x = conv_block(64, dropout=conv_dropout, activation=activation, block=2, layer=1)(x)\n",
    "    x = conv_block(64, dropout=conv_dropout, activation=activation, block=2, layer=2)(x)\n",
    "    x = MaxPooling2D((2, 2), strides=(2, 2), name='block2_pool')(x)\n",
    "\n",
    "    # Block 3\n",
    "    x = conv_block(128, dropout=conv_dropout, activation=activation, block=3, layer=1)(x)\n",
    "    x = conv_block(128, dropout=conv_dropout, activation=activation, block=3, layer=2)(x)\n",
    "    x = conv_block(128, dropout=conv_dropout, activation=activation, block=3, layer=3)(x)\n",
    "    x = MaxPooling2D((2, 2), strides=(2, 2), name='block3_pool')(x)\n",
    "\n",
    "    # Block 4\n",
    "    x = conv_block(256, dropout=conv_dropout, activation=activation, block=4, layer=1)(x)\n",
    "    x = conv_block(256, dropout=conv_dropout, activation=activation, block=4, layer=2)(x)\n",
    "    x = conv_block(256, dropout=conv_dropout, activation=activation, block=4, layer=3)(x)\n",
    "    x = MaxPooling2D((2, 2), strides=(2, 2), name='block4_pool')(x)\n",
    "\n",
    "    # Block 5\n",
    "    x = conv_block(256, dropout=conv_dropout, activation=activation, block=5, layer=1)(x)\n",
    "    x = conv_block(256, dropout=conv_dropout, activation=activation, block=5, layer=2)(x)\n",
    "    x = conv_block(256, dropout=conv_dropout, activation=activation, block=5, layer=3)(x)\n",
    "    x = MaxPooling2D((2, 2), strides=(2, 2), name='block5_pool')(x)\n",
    "\n",
    "    # Flatten\n",
    "    x = GlobalAveragePooling2D()(x)\n",
    "\n",
    "    # FC Layers\n",
    "    x = dense_block(512, dropout=dropout, activation=activation, name='fc1')(x)\n",
    "    x = dense_block(512, dropout=dropout, activation=activation, name='fc2')(x)\n",
    "    \n",
    "    # Classification block    \n",
    "    x = Dense(classes, activation='softmax', name='predictions')(x)\n",
    "\n",
    "    # Ensure that the model takes into account any potential predecessors of `input_tensor`.\n",
    "    inputs = get_source_inputs(input_tensor) if input_tensor is not None else img_input\n",
    "\n",
    "    # Create model.\n",
    "    return Model(inputs, x, name='vgg16_bn')"
   ]
  },
  {
   "cell_type": "code",
   "execution_count": 9,
   "metadata": {},
   "outputs": [],
   "source": [
    "from keras.models import Model\n",
    "\n",
    "inputs = Input(shape=input_shape)\n",
    "y = Conv2D(filters=filters,kernel_size=kernel_size,activation='relu')(inputs)\n",
    "y = MaxPooling2D()(y)\n",
    "y = Conv2D(filters=filters,kernel_size=kernel_size,activation='relu')(y)\n",
    "y = MaxPooling2D()(y)\n",
    "y = Conv2D(filters=filters,kernel_size=kernel_size,activation='relu')(y)\n",
    " \n",
    "y = Flatten()(y)\n",
    " \n",
    "y = Dropout(dropout)(y)\n",
    "outputs = Dense(num_labels, activation='softmax')(y)\n",
    "\n",
    " \n",
    "model = Model(inputs=inputs, outputs=outputs)\n",
    "\n",
    " \n",
    "#model =VGG16_BN(input_tensor=None, input_shape=x_train.shape[1:], classes=10, conv_dropout=0.1, dropout=0.3, activation='relu')\n",
    " \n",
    "#model.summary()"
   ]
  },
  {
   "cell_type": "code",
   "execution_count": 10,
   "metadata": {},
   "outputs": [],
   "source": [
    " \n",
    "from adam_or import Aadam\n",
    "from AdamT import AdamT"
   ]
  },
  {
   "cell_type": "code",
   "execution_count": 11,
   "metadata": {},
   "outputs": [],
   "source": [
    "fw=model.get_weights()"
   ]
  },
  {
   "cell_type": "code",
   "execution_count": 12,
   "metadata": {},
   "outputs": [
    {
     "name": "stdout",
     "output_type": "stream",
     "text": [
      "Train on 50000 samples, validate on 1999 samples\n",
      "Epoch 1/30\n",
      "50000/50000 [==============================] - 9s 173us/step - loss: 1.5753 - accuracy: 0.4178 - val_loss: 1.3101 - val_accuracy: 0.5258\n",
      "Epoch 2/30\n",
      "50000/50000 [==============================] - 7s 148us/step - loss: 1.2346 - accuracy: 0.5585 - val_loss: 1.0845 - val_accuracy: 0.6183\n",
      "Epoch 3/30\n",
      "50000/50000 [==============================] - 7s 150us/step - loss: 1.0915 - accuracy: 0.6121 - val_loss: 0.9992 - val_accuracy: 0.6558\n",
      "Epoch 4/30\n",
      "50000/50000 [==============================] - 7s 149us/step - loss: 1.0098 - accuracy: 0.6453 - val_loss: 0.9593 - val_accuracy: 0.6578\n",
      "Epoch 5/30\n",
      "50000/50000 [==============================] - 8s 151us/step - loss: 0.9516 - accuracy: 0.6666 - val_loss: 0.9352 - val_accuracy: 0.6723\n",
      "Epoch 6/30\n",
      "50000/50000 [==============================] - 8s 151us/step - loss: 0.9008 - accuracy: 0.6846 - val_loss: 0.8722 - val_accuracy: 0.6983\n",
      "Epoch 7/30\n",
      "50000/50000 [==============================] - 8s 152us/step - loss: 0.8574 - accuracy: 0.7010 - val_loss: 0.8773 - val_accuracy: 0.6918\n",
      "Epoch 8/30\n",
      "50000/50000 [==============================] - 8s 153us/step - loss: 0.8289 - accuracy: 0.7097 - val_loss: 0.8448 - val_accuracy: 0.7134\n",
      "Epoch 9/30\n",
      "50000/50000 [==============================] - 8s 151us/step - loss: 0.7961 - accuracy: 0.7217 - val_loss: 0.8179 - val_accuracy: 0.7194\n",
      "Epoch 10/30\n",
      "50000/50000 [==============================] - 7s 148us/step - loss: 0.7696 - accuracy: 0.7314 - val_loss: 0.8514 - val_accuracy: 0.7079\n",
      "Epoch 11/30\n",
      "50000/50000 [==============================] - 7s 149us/step - loss: 0.7466 - accuracy: 0.7367 - val_loss: 0.8623 - val_accuracy: 0.6988\n",
      "Epoch 12/30\n",
      "50000/50000 [==============================] - 7s 145us/step - loss: 0.7263 - accuracy: 0.7459 - val_loss: 0.8321 - val_accuracy: 0.7189\n",
      "Epoch 13/30\n",
      "50000/50000 [==============================] - 7s 146us/step - loss: 0.7047 - accuracy: 0.7524 - val_loss: 0.8268 - val_accuracy: 0.7174\n",
      "Epoch 14/30\n",
      "50000/50000 [==============================] - 7s 146us/step - loss: 0.6901 - accuracy: 0.7577 - val_loss: 0.8192 - val_accuracy: 0.7249\n",
      "Epoch 15/30\n",
      "50000/50000 [==============================] - 8s 152us/step - loss: 0.6756 - accuracy: 0.7634 - val_loss: 0.8149 - val_accuracy: 0.7229\n",
      "Epoch 16/30\n",
      "50000/50000 [==============================] - 8s 156us/step - loss: 0.6600 - accuracy: 0.7685 - val_loss: 0.8404 - val_accuracy: 0.7204\n",
      "Epoch 17/30\n",
      "50000/50000 [==============================] - 8s 153us/step - loss: 0.6496 - accuracy: 0.7716 - val_loss: 0.7809 - val_accuracy: 0.7319\n",
      "Epoch 18/30\n",
      "50000/50000 [==============================] - 8s 151us/step - loss: 0.6297 - accuracy: 0.7797 - val_loss: 0.8277 - val_accuracy: 0.7244\n",
      "Epoch 19/30\n",
      "50000/50000 [==============================] - 7s 148us/step - loss: 0.6189 - accuracy: 0.7813 - val_loss: 0.7824 - val_accuracy: 0.7294\n",
      "Epoch 20/30\n",
      "50000/50000 [==============================] - 8s 152us/step - loss: 0.6042 - accuracy: 0.7866 - val_loss: 0.8108 - val_accuracy: 0.7309\n",
      "Epoch 21/30\n",
      "50000/50000 [==============================] - 8s 154us/step - loss: 0.5911 - accuracy: 0.7919 - val_loss: 0.7737 - val_accuracy: 0.7394\n",
      "Epoch 22/30\n",
      "50000/50000 [==============================] - 8s 158us/step - loss: 0.5808 - accuracy: 0.7947 - val_loss: 0.7988 - val_accuracy: 0.7389\n",
      "Epoch 23/30\n",
      "50000/50000 [==============================] - 8s 156us/step - loss: 0.5725 - accuracy: 0.7969 - val_loss: 0.7954 - val_accuracy: 0.7309\n",
      "Epoch 24/30\n",
      "50000/50000 [==============================] - 8s 156us/step - loss: 0.5642 - accuracy: 0.8010 - val_loss: 0.7846 - val_accuracy: 0.7459\n",
      "Epoch 25/30\n",
      "50000/50000 [==============================] - 8s 151us/step - loss: 0.5587 - accuracy: 0.8025 - val_loss: 0.8031 - val_accuracy: 0.7434\n",
      "Epoch 26/30\n",
      "50000/50000 [==============================] - 8s 150us/step - loss: 0.5537 - accuracy: 0.8051 - val_loss: 0.8005 - val_accuracy: 0.7389\n",
      "Epoch 27/30\n",
      "50000/50000 [==============================] - 7s 148us/step - loss: 0.5427 - accuracy: 0.8067 - val_loss: 0.8338 - val_accuracy: 0.7239\n",
      "Epoch 28/30\n",
      "50000/50000 [==============================] - 7s 147us/step - loss: 0.5374 - accuracy: 0.8097 - val_loss: 0.8043 - val_accuracy: 0.7389\n",
      "Epoch 29/30\n",
      "50000/50000 [==============================] - 7s 146us/step - loss: 0.5256 - accuracy: 0.8133 - val_loss: 0.8272 - val_accuracy: 0.7304\n",
      "Epoch 30/30\n",
      "50000/50000 [==============================] - 7s 146us/step - loss: 0.5224 - accuracy: 0.8155 - val_loss: 0.8263 - val_accuracy: 0.7324\n"
     ]
    }
   ],
   "source": [
    "ep=30\n",
    "lra=[5e-3,1e-3,5e-4,1e-4]\n",
    "optimizer = Aadam()\n",
    "\n",
    "\n",
    "weights_dict = {}\n",
    "\n",
    "weight_callback = tf.keras.callbacks.LambdaCallback \\\n",
    "( on_epoch_end=lambda epoch, logs: weights_dict.update({epoch:model.get_weights()}))\n",
    "\n",
    "\n",
    "model.compile(optimizer, loss='categorical_crossentropy', metrics=['accuracy'])\n",
    " \n",
    "\n",
    "\n",
    "hb1=model.fit(x_train,y_train, epochs=ep, validation_data=(x_test, y_test), callbacks = [weight_callback  ])"
   ]
  },
  {
   "cell_type": "code",
   "execution_count": 13,
   "metadata": {},
   "outputs": [],
   "source": [
    "# fw=model.get_weights()\n",
    "# model2=model\n",
    "\n",
    "# model2.set_weights(fw)"
   ]
  },
  {
   "cell_type": "code",
   "execution_count": 14,
   "metadata": {},
   "outputs": [
    {
     "name": "stdout",
     "output_type": "stream",
     "text": [
      "Train on 50000 samples, validate on 1999 samples\n",
      "Epoch 1/30\n",
      "50000/50000 [==============================] - 8s 151us/step - loss: 1.5836 - accuracy: 0.4184 - val_loss: 1.3379 - val_accuracy: 0.5188\n",
      "Epoch 2/30\n",
      "50000/50000 [==============================] - 8s 154us/step - loss: 1.2538 - accuracy: 0.5524 - val_loss: 1.1593 - val_accuracy: 0.5798\n",
      "Epoch 3/30\n",
      "50000/50000 [==============================] - 8s 152us/step - loss: 1.1198 - accuracy: 0.6030 - val_loss: 1.0832 - val_accuracy: 0.6168\n",
      "Epoch 4/30\n",
      "50000/50000 [==============================] - 8s 153us/step - loss: 1.0312 - accuracy: 0.6364 - val_loss: 0.9962 - val_accuracy: 0.6458\n",
      "Epoch 5/30\n",
      "50000/50000 [==============================] - 7s 148us/step - loss: 0.9684 - accuracy: 0.6586 - val_loss: 0.9551 - val_accuracy: 0.6558\n",
      "Epoch 6/30\n",
      "50000/50000 [==============================] - 8s 152us/step - loss: 0.9208 - accuracy: 0.6768 - val_loss: 0.9426 - val_accuracy: 0.6613\n",
      "Epoch 7/30\n",
      "50000/50000 [==============================] - 8s 155us/step - loss: 0.8771 - accuracy: 0.6927 - val_loss: 0.9288 - val_accuracy: 0.6783\n",
      "Epoch 8/30\n",
      "50000/50000 [==============================] - 8s 153us/step - loss: 0.8461 - accuracy: 0.7024 - val_loss: 0.8923 - val_accuracy: 0.6888\n",
      "Epoch 9/30\n",
      "50000/50000 [==============================] - 8s 150us/step - loss: 0.8226 - accuracy: 0.7108 - val_loss: 0.8456 - val_accuracy: 0.6998\n",
      "Epoch 10/30\n",
      "50000/50000 [==============================] - 8s 151us/step - loss: 0.7912 - accuracy: 0.7217 - val_loss: 0.8554 - val_accuracy: 0.7029\n",
      "Epoch 11/30\n",
      "50000/50000 [==============================] - 8s 151us/step - loss: 0.7697 - accuracy: 0.7305 - val_loss: 0.8415 - val_accuracy: 0.7094\n",
      "Epoch 12/30\n",
      "50000/50000 [==============================] - 8s 152us/step - loss: 0.7481 - accuracy: 0.7381 - val_loss: 0.8433 - val_accuracy: 0.6978\n",
      "Epoch 13/30\n",
      "50000/50000 [==============================] - 8s 153us/step - loss: 0.7328 - accuracy: 0.7436 - val_loss: 0.8306 - val_accuracy: 0.7079\n",
      "Epoch 14/30\n",
      "50000/50000 [==============================] - 8s 154us/step - loss: 0.7174 - accuracy: 0.7481 - val_loss: 0.8281 - val_accuracy: 0.7109\n",
      "Epoch 15/30\n",
      "50000/50000 [==============================] - 7s 149us/step - loss: 0.7008 - accuracy: 0.7530 - val_loss: 0.8042 - val_accuracy: 0.7209\n",
      "Epoch 16/30\n",
      "50000/50000 [==============================] - 8s 151us/step - loss: 0.6839 - accuracy: 0.7599 - val_loss: 0.8442 - val_accuracy: 0.7099\n",
      "Epoch 17/30\n",
      "50000/50000 [==============================] - 7s 147us/step - loss: 0.6763 - accuracy: 0.7615 - val_loss: 0.8543 - val_accuracy: 0.7099\n",
      "Epoch 18/30\n",
      "50000/50000 [==============================] - 7s 148us/step - loss: 0.6620 - accuracy: 0.7675 - val_loss: 0.8472 - val_accuracy: 0.7109\n",
      "Epoch 19/30\n",
      "50000/50000 [==============================] - 7s 150us/step - loss: 0.6543 - accuracy: 0.7702 - val_loss: 0.8479 - val_accuracy: 0.7074\n",
      "Epoch 20/30\n",
      "50000/50000 [==============================] - 7s 149us/step - loss: 0.6455 - accuracy: 0.7737 - val_loss: 0.8408 - val_accuracy: 0.7144\n",
      "Epoch 21/30\n",
      "50000/50000 [==============================] - 8s 154us/step - loss: 0.6283 - accuracy: 0.7777 - val_loss: 0.8299 - val_accuracy: 0.7234\n",
      "Epoch 22/30\n",
      "50000/50000 [==============================] - 8s 154us/step - loss: 0.6199 - accuracy: 0.7827 - val_loss: 0.8084 - val_accuracy: 0.7184\n",
      "Epoch 23/30\n",
      "50000/50000 [==============================] - 8s 163us/step - loss: 0.6115 - accuracy: 0.7830 - val_loss: 0.7967 - val_accuracy: 0.7409\n",
      "Epoch 24/30\n",
      "50000/50000 [==============================] - 8s 169us/step - loss: 0.6001 - accuracy: 0.7890 - val_loss: 0.8237 - val_accuracy: 0.7314\n",
      "Epoch 25/30\n",
      "50000/50000 [==============================] - 9s 170us/step - loss: 0.5946 - accuracy: 0.7912 - val_loss: 0.8360 - val_accuracy: 0.7139\n",
      "Epoch 26/30\n",
      "50000/50000 [==============================] - 8s 154us/step - loss: 0.5883 - accuracy: 0.7925 - val_loss: 0.8587 - val_accuracy: 0.7154\n",
      "Epoch 27/30\n",
      "50000/50000 [==============================] - 8s 151us/step - loss: 0.5829 - accuracy: 0.7953 - val_loss: 0.8543 - val_accuracy: 0.7289\n",
      "Epoch 28/30\n",
      "50000/50000 [==============================] - 8s 152us/step - loss: 0.5742 - accuracy: 0.7962 - val_loss: 0.8429 - val_accuracy: 0.7229\n",
      "Epoch 29/30\n",
      "50000/50000 [==============================] - 8s 151us/step - loss: 0.5731 - accuracy: 0.7968 - val_loss: 0.8330 - val_accuracy: 0.7244\n",
      "Epoch 30/30\n",
      "50000/50000 [==============================] - 8s 151us/step - loss: 0.5591 - accuracy: 0.8016 - val_loss: 0.8215 - val_accuracy: 0.7284\n"
     ]
    }
   ],
   "source": [
    "model2=  Model(inputs=inputs, outputs=outputs)\n",
    "optimizer = Aadam()\n",
    "model2.set_weights(fw)\n",
    "\n",
    "weights_dict = {}\n",
    "\n",
    "weight_callback = tf.keras.callbacks.LambdaCallback \\\n",
    "( on_epoch_end=lambda epoch, logs: weights_dict.update({epoch:model.get_weights()}))\n",
    "\n",
    "\n",
    "model2.compile(optimizer, loss='categorical_crossentropy', metrics=['accuracy'])\n",
    " \n",
    "\n",
    "\n",
    "hb2=model2.fit(x_train,y_train, epochs=ep, validation_data=(x_test, y_test), callbacks = [weight_callback  ])"
   ]
  },
  {
   "cell_type": "code",
   "execution_count": 15,
   "metadata": {},
   "outputs": [],
   "source": [
    "h1=hb1.history['accuracy']\n",
    "h2=hb2.history['accuracy']"
   ]
  },
  {
   "cell_type": "code",
   "execution_count": 21,
   "metadata": {},
   "outputs": [
    {
     "data": {
      "image/png": "[encoded data removed]",
      "text/plain": [
       "<Figure size 432x288 with 1 Axes>"
      ]
     },
     "metadata": {
      "needs_background": "light"
     },
     "output_type": "display_data"
    }
   ],
   "source": [
    "plt.plot(h1)\n",
    "plt.plot(h2)\n",
    "plt.title('model accuracy')\n",
    "plt.ylabel('accuracy')\n",
    "plt.xlabel('epoch')\n",
    "plt.legend(['AdamT', 'Adam'], loc='upper left')\n",
    "plt.show()"
   ]
  },
  {
   "cell_type": "code",
   "execution_count": 22,
   "metadata": {},
   "outputs": [],
   "source": [
    "vh1=hb1.history['val_accuracy']\n",
    "vh2=hb2.history['val_accuracy']"
   ]
  },
  {
   "cell_type": "code",
   "execution_count": 23,
   "metadata": {},
   "outputs": [
    {
     "data": {
      "image/png": "[encoded data removed]",
      "text/plain": [
       "<Figure size 432x288 with 1 Axes>"
      ]
     },
     "metadata": {
      "needs_background": "light"
     },
     "output_type": "display_data"
    }
   ],
   "source": [
    "plt.plot(vh1)\n",
    "plt.plot(vh2)\n",
    "plt.title('model accuracy')\n",
    "plt.ylabel('accuracy')\n",
    "plt.xlabel('epoch')\n",
    "plt.legend(['AdamT', 'Adam'], loc='upper left')\n",
    "plt.show()"
   ]
  },
  {
   "cell_type": "code",
   "execution_count": null,
   "metadata": {},
   "outputs": [],
   "source": [
    " "
   ]
  },
  {
   "cell_type": "code",
   "execution_count": null,
   "metadata": {},
   "outputs": [],
   "source": []
  },
  {
   "cell_type": "code",
   "execution_count": null,
   "metadata": {},
   "outputs": [],
   "source": []
  },
  {
   "cell_type": "code",
   "execution_count": null,
   "metadata": {},
   "outputs": [],
   "source": []
  }
 ],
 "metadata": {
  "kernelspec": {
   "display_name": "Python [conda env:Bdeep] *",
   "language": "python",
   "name": "conda-env-Bdeep-py"
  },
  "language_info": {
   "codemirror_mode": {
    "name": "ipython",
    "version": 3
   },
   "file_extension": ".py",
   "mimetype": "text/x-python",
   "name": "python",
   "nbconvert_exporter": "python",
   "pygments_lexer": "ipython3",
   "version": "3.7.9"
  }
 },
 "nbformat": 4,
 "nbformat_minor": 4
}
